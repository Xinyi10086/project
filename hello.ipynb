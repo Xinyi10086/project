{
 "cells": [
  {
   "cell_type": "code",
   "execution_count": null,
   "id": "98662793",
   "metadata": {},
   "outputs": [
    {
     "name": "stdout",
     "output_type": "stream",
     "text": [
      "hello\n"
     ]
    }
   ],
   "source": [
    "import numpy as np\n",
    "import scipy as p\n",
    "import matplotlib as plt\n",
    "from scipy.odr import ODR, Model, RealData\n"
   ]
  },
  {
   "cell_type": "code",
   "execution_count": 4,
   "id": "6d8bd6d7",
   "metadata": {},
   "outputs": [
    {
     "name": "stdout",
     "output_type": "stream",
     "text": [
      "fit the parameters\n",
      "beta[0] = 1.2624\n",
      "beta[1] = 3.3139\n",
      "beta[2] = 0.2450\n",
      "beta[3] = 2.0235\n"
     ]
    }
   ],
   "source": [
    "np.random.seed(1) \n",
    "n_samples = 1000\n",
    "x_true = np.linspace(-1, 1, num=n_samples)\n",
    "\n",
    "def f(x):\n",
    "    return 1 + 3*x + x**2 + x**3 \n",
    "\n",
    "noise = np.random.normal(loc=0, scale=1, size=n_samples)\n",
    "\n",
    "y_noisy = f(x_true) + noise\n",
    "\n",
    "def linear_poly_model(beta, x):\n",
    "    return beta[0] + beta[1]*x**1 + beta[2]*x**2 + beta[3]*x**3\n",
    "\n",
    "model = Model(linear_poly_model)\n",
    "data = RealData(x_true, y_noisy)\n",
    "beta0 = [0, 0, 0, 0] # set initial parameters\n",
    "\n",
    "odr = ODR(data, model, beta0=beta0)\n",
    "output = odr.run()\n",
    "print(\"fit the parameters\")\n",
    "for i, b in enumerate(output.beta):\n",
    "    print(f\"beta[{i}] = {b:.4f}\")\n",
    "\n",
    "y_fit = linear_poly_model(output.beta, x_true)"
   ]
  },
  {
   "cell_type": "code",
   "execution_count": 5,
   "id": "edd66c6e",
   "metadata": {},
   "outputs": [
    {
     "name": "stdout",
     "output_type": "stream",
     "text": [
      "fit the parameters\n",
      "beta[0] = 1.1674\n",
      "beta[1] = 3.4842\n",
      "beta[2] = 0.8905\n",
      "beta[3] = 0.9113\n"
     ]
    }
   ],
   "source": [
    "x_noisy = x_true + np.random.normal(loc=0, scale=1, size=n_samples)\n",
    "y_noisy = f(x_noisy) + noise\n",
    "\n",
    "model = Model(linear_poly_model)\n",
    "data = RealData(x_noisy, y_noisy)\n",
    "beta0 = [0, 0, 0, 0] # set initial parameters\n",
    "\n",
    "odr = ODR(data, model, beta0=beta0)\n",
    "output2 = odr.run()\n",
    "print(\"fit the parameters\")\n",
    "for i, b in enumerate(output2.beta):\n",
    "    print(f\"beta[{i}] = {b:.4f}\")\n",
    "\n",
    "y_fit = linear_poly_model(output.beta, x_true)"
   ]
  }
 ],
 "metadata": {
  "kernelspec": {
   "display_name": ".venv",
   "language": "python",
   "name": "python3"
  },
  "language_info": {
   "codemirror_mode": {
    "name": "ipython",
    "version": 3
   },
   "file_extension": ".py",
   "mimetype": "text/x-python",
   "name": "python",
   "nbconvert_exporter": "python",
   "pygments_lexer": "ipython3",
   "version": "3.12.8"
  }
 },
 "nbformat": 4,
 "nbformat_minor": 5
}
